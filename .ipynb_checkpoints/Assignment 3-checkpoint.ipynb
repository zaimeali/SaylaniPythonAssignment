{
 "cells": [
  {
   "cell_type": "code",
   "execution_count": 6,
   "metadata": {},
   "outputs": [
    {
     "name": "stdout",
     "output_type": "stream",
     "text": [
      "Enter Number 1: 5\n",
      "Enter Number 2: 2\n",
      "\n",
      "+, -, /, *, pow\n",
      "Enter Operator: pow\n",
      "Answer is:  25\n"
     ]
    }
   ],
   "source": [
    "# 1. Make a calculator using Python with addition , subtraction , multiplication ,\n",
    "# division and power.\n",
    "\n",
    "def calc(num1, num2, opr):\n",
    "    if opr == \"+\":\n",
    "        return num1 + num2\n",
    "    elif opr == \"*\":\n",
    "        return num1 * num2\n",
    "    elif opr == \"/\":\n",
    "        if num1 > num2:\n",
    "            return num1 / num2\n",
    "        else:\n",
    "            return num2 / num1\n",
    "    elif opr == \"-\":\n",
    "        if num1 > num2:\n",
    "            return num1 - num2\n",
    "        else:\n",
    "            return num2 - num1\n",
    "    elif opr == \"pow\":\n",
    "        return num1 ** num2\n",
    "    else:\n",
    "        return \"Operator is not Selected\"\n",
    "    \n",
    "n1 = int(input(\"Enter Number 1: \"))\n",
    "n2 = int(input(\"Enter Number 2: \"))\n",
    "print()\n",
    "print(\"+, -, /, *, pow\")\n",
    "op = input(\"Enter Operator: \")\n",
    "\n",
    "print(\"Answer is: \", calc(n1, n2, op))"
   ]
  },
  {
   "cell_type": "code",
   "execution_count": 22,
   "metadata": {},
   "outputs": [
    {
     "name": "stdout",
     "output_type": "stream",
     "text": [
      "Type of  Nice  is:  <class 'str'>  at Index[ 0 ]\n",
      "Type of  Very Nice  is:  <class 'str'>  at Index[ 1 ]\n",
      "Type of  3  is:  <class 'int'>  at Index[ 2 ]\n",
      "Type of  5  is:  <class 'int'>  at Index[ 3 ]\n",
      "Type of  True  is:  <class 'bool'>  at Index[ 4 ]\n",
      "Type of  False  is:  <class 'bool'>  at Index[ 5 ]\n",
      "Type of  6.5  is:  <class 'float'>  at Index[ 6 ]\n",
      "Type of  Strong  is:  <class 'str'>  at Index[ 7 ]\n",
      "Integers are at index:  [3, 5]\n"
     ]
    }
   ],
   "source": [
    "# 2. Write a program to check if there is any numeric value in list using for loop    (# type(54))\n",
    "\n",
    "li = ['Nice', 'Very Nice', 3, 5, True, False, 6.5, 'Strong']\n",
    "\n",
    "index = []\n",
    "\n",
    "for ind, i in enumerate(li):\n",
    "    print(\"Type of \", i, \" is: \", type(i), \" at Index[\", ind, \"]\")\n",
    "#     if isinstance(i, int):\n",
    "#         index.append(i)\n",
    "    if type(i) == type(3):\n",
    "        index.append(i)\n",
    "\n",
    "print(\"Integers are at index: \", index)"
   ]
  },
  {
   "cell_type": "code",
   "execution_count": 24,
   "metadata": {},
   "outputs": [
    {
     "name": "stdout",
     "output_type": "stream",
     "text": [
      "{'Apple': ['Green', 'Red'], 'Banana': ['Yellow'], 'Mango': ['Orange', 'Yellow', 'Green'], 'Grapes': ['Purple', 'Green']}\n"
     ]
    }
   ],
   "source": [
    "# 3. Write a Python script to add a key to a dictionary\n",
    "\n",
    "dic = {\n",
    "    'Apple': ['Green', 'Red'],\n",
    "    'Banana': ['Yellow'],\n",
    "    'Mango': ['Orange', 'Yellow', 'Green']\n",
    "}\n",
    "\n",
    "dic['Grapes'] = ['Purple', 'Green']\n",
    "\n",
    "print(dic)"
   ]
  },
  {
   "cell_type": "code",
   "execution_count": 30,
   "metadata": {},
   "outputs": [
    {
     "name": "stdout",
     "output_type": "stream",
     "text": [
      "Total Sum is:  15\n"
     ]
    }
   ],
   "source": [
    "# 4. Write a Python program to sum all the numeric items in a dictionary\n",
    "\n",
    "dic = {\n",
    "    'One': 1,\n",
    "    'Two': 2,\n",
    "    'Three': 3,\n",
    "    'Four': 4,\n",
    "    'Five': 5\n",
    "}\n",
    "\n",
    "sum = 0\n",
    "\n",
    "# for key, value in dic.items():\n",
    "#     sum = sum + value\n",
    "\n",
    "for key in dic:\n",
    "    sum = sum + dic[key]\n",
    "\n",
    "print(\"Total Sum is: \", sum)"
   ]
  },
  {
   "cell_type": "code",
   "execution_count": 44,
   "metadata": {},
   "outputs": [
    {
     "name": "stdout",
     "output_type": "stream",
     "text": [
      "[['Nice', 1], [3, 1], [9, 1]]\n"
     ]
    }
   ],
   "source": [
    "# 5. Write a program to identify duplicate values from list\n",
    "\n",
    "li = ['Nice', 'Very', 3, 4, True, False, 'Strong','Tiger', 9, 8, 10, 'Nice', 3, 'Very Nice', 9]\n",
    "\n",
    "count = 0\n",
    "duplicate = []\n",
    "\n",
    "for i in range(0, len(li)):\n",
    "    for j in range(i):\n",
    "        if li[i] == li[j]:\n",
    "            count = count + 1\n",
    "            duplicate.append([li[i], count])\n",
    "    count = 0\n",
    "        \n",
    "print(duplicate)"
   ]
  },
  {
   "cell_type": "code",
   "execution_count": 49,
   "metadata": {},
   "outputs": [
    {
     "name": "stdout",
     "output_type": "stream",
     "text": [
      "Enter Key to Check: One\n",
      "\n",
      "One exist in Dictionary\n"
     ]
    }
   ],
   "source": [
    "# 6. Write a Python script to check if a given key already exists in a dictionary\n",
    "\n",
    "dic = {\n",
    "    'One': 1,\n",
    "    'Two': 2,\n",
    "    'Three': 3,\n",
    "    'Four': 4,\n",
    "    'Five': 5\n",
    "}\n",
    "\n",
    "key = input('Enter Key to Check: ')\n",
    "print()\n",
    "\n",
    "if(key in dic):\n",
    "    print(key, \"exist in Dictionary\")\n",
    "else:\n",
    "    print(key, \"don't exist in Dictionary\")"
   ]
  },
  {
   "cell_type": "code",
   "execution_count": null,
   "metadata": {},
   "outputs": [],
   "source": []
  }
 ],
 "metadata": {
  "kernelspec": {
   "display_name": "Python 3",
   "language": "python",
   "name": "python3"
  },
  "language_info": {
   "codemirror_mode": {
    "name": "ipython",
    "version": 3
   },
   "file_extension": ".py",
   "mimetype": "text/x-python",
   "name": "python",
   "nbconvert_exporter": "python",
   "pygments_lexer": "ipython3",
   "version": "3.7.3"
  }
 },
 "nbformat": 4,
 "nbformat_minor": 2
}
