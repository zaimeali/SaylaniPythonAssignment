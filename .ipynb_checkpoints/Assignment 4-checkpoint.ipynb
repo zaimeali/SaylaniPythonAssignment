{
 "cells": [
  {
   "cell_type": "code",
   "execution_count": 1,
   "metadata": {},
   "outputs": [],
   "source": [
    "# Question1:\n",
    "# Use a dictionary to store information about a person you know. Store their first name, last name, age,\n",
    "# and the city in which they live. You should have keys such as first_name, last_name, age, and city. Print\n",
    "# each piece of information stored in your dictionary. Add a new key value pair about qualification then\n",
    "# update the qualification value to high academic level then delete it."
   ]
  },
  {
   "cell_type": "code",
   "execution_count": 16,
   "metadata": {},
   "outputs": [
    {
     "name": "stdout",
     "output_type": "stream",
     "text": [
      "Person Detail:\n",
      "[ first_name ] => Zaime\n",
      "[ last_name ] => Ali\n",
      "[ age ] => 21\n",
      "[ city ] => Karachi\n",
      "\n",
      "\n",
      "\n",
      "\n",
      "Person Detail:\n",
      "first_name => Zaime\n",
      "last_name => Ali\n",
      "age => 21\n",
      "city => Karachi\n",
      "qualification => Matric\n",
      "\n",
      "\n",
      "\n",
      "\n",
      "Person Detail:\n",
      "first_name => Zaime\n",
      "last_name => Ali\n",
      "age => 21\n",
      "city => Karachi\n",
      "qualification => Inter\n",
      "\n",
      "\n",
      "\n",
      "\n",
      "Person Detail:\n",
      "first_name => Zaime\n",
      "last_name => Ali\n",
      "age => 21\n",
      "city => Karachi\n"
     ]
    }
   ],
   "source": [
    "person = {\n",
    "    'first_name': 'Zaime',\n",
    "    'last_name': 'Ali',\n",
    "    'age': 21,\n",
    "    'city': 'Karachi'\n",
    "}\n",
    "print('Person Detail:')\n",
    "# First Method to iterate Dictionary\n",
    "for key, value in person.items():\n",
    "    print('[',key,']', '=>', value)\n",
    "    \n",
    "print('\\n')\n",
    "person['qualification'] = 'Matric'\n",
    "print('\\n')\n",
    "    \n",
    "    \n",
    "print('Person Detail:')\n",
    "# Second Method to Iterate Dictionary\n",
    "for p in person:\n",
    "    print(p, '=>', person[p])\n",
    "    \n",
    "print('\\n')\n",
    "# Updating Qualification\n",
    "person['qualification'] = 'Inter'\n",
    "print('\\n')\n",
    "    \n",
    "    \n",
    "print('Person Detail:')\n",
    "# Second Method to Iterate Dictionary\n",
    "for p in person:\n",
    "    print(p, '=>', person[p])\n",
    "\n",
    "    \n",
    "print('\\n')\n",
    "# Deleting Qualification\n",
    "del(person['qualification'])\n",
    "print('\\n')\n",
    "    \n",
    "    \n",
    "print('Person Detail:')\n",
    "# Second Method to Iterate Dictionary\n",
    "for p in person:\n",
    "    print(p, '=>', person[p])"
   ]
  },
  {
   "cell_type": "code",
   "execution_count": null,
   "metadata": {},
   "outputs": [],
   "source": []
  },
  {
   "cell_type": "code",
   "execution_count": 17,
   "metadata": {},
   "outputs": [],
   "source": [
    "# Question2:\n",
    "# Make a dictionary called cities. Use the names of three cities as keys in your dictionary. Create a\n",
    "# dictionary of information about each city and include the country that the city is in, its approximate\n",
    "# population, and one fact about that city. The keys for each city’s dictionary should be something like\n",
    "# country, population, and fact. Print the name of each city and all of the information you have stored\n",
    "# about it."
   ]
  },
  {
   "cell_type": "code",
   "execution_count": 33,
   "metadata": {},
   "outputs": [
    {
     "name": "stdout",
     "output_type": "stream",
     "text": [
      "City Name: Karachi\n",
      "    country : Pakistan\n",
      "    population : 14.91 million\n",
      "    fact : It is the Sixth largest city in the world by city population.\n",
      "\n",
      "City Name: Toronto\n",
      "    country : Canada\n",
      "    population : 2.93 million\n",
      "    fact : Over 180 languages and dialects are spoken in the city.\n",
      "\n",
      "City Name: New York\n",
      "    country : United States of America\n",
      "    population : 8.623 million\n",
      "    fact : There is a birth in NYC every 4.4 minutes.\n",
      "\n"
     ]
    }
   ],
   "source": [
    "cities = {\n",
    "    'Karachi': {\n",
    "        'country': 'Pakistan',\n",
    "        'population': '14.91 million',\n",
    "        'fact': 'It is the Sixth largest city in the world by city population.'\n",
    "    },\n",
    "\n",
    "    'Toronto': {\n",
    "        'country': 'Canada',\n",
    "        'population': '2.93 million',\n",
    "        'fact': 'Over 180 languages and dialects are spoken in the city.'\n",
    "    },\n",
    "\n",
    "    'New York': {\n",
    "        'country': 'United States of America',\n",
    "        'population': '8.623 million',\n",
    "        'fact': 'There is a birth in NYC every 4.4 minutes.'\n",
    "    }\n",
    "}\n",
    "\n",
    "for city, info in cities.items():\n",
    "    print('City Name:',city)\n",
    "    for i in info:\n",
    "        print('   ',i,':',info[i])\n",
    "    print()"
   ]
  },
  {
   "cell_type": "code",
   "execution_count": null,
   "metadata": {},
   "outputs": [],
   "source": []
  },
  {
   "cell_type": "code",
   "execution_count": 34,
   "metadata": {},
   "outputs": [],
   "source": [
    "# Question3:\n",
    "# A movie theater charges different ticket prices depending on a person’s age. If a person is under the age\n",
    "# of 3, the ticket is free; if they are between 3 and 12, the ticket is $10; and if they are over age 12, the\n",
    "# ticket is $15. Write a loop in which you ask users their age, and then tell them the cost of their movie\n",
    "# ticket."
   ]
  },
  {
   "cell_type": "code",
   "execution_count": 2,
   "metadata": {},
   "outputs": [
    {
     "name": "stdout",
     "output_type": "stream",
     "text": [
      "Enter Age: 3\n",
      "Your Ticket price is $10\n",
      "\n",
      "Yes = y, No = n\n",
      "Do you want to Cancel this Loop: n\n",
      "\n",
      "Enter Age: 14\n",
      "Your Ticket price is $15\n",
      "\n",
      "Yes = y, No = n\n",
      "Do you want to Cancel this Loop: n\n",
      "\n",
      "Enter Age: 7\n",
      "Your Ticket price is $10\n",
      "\n",
      "Yes = y, No = n\n",
      "Do you want to Cancel this Loop: y\n",
      "Loop End\n",
      "\n"
     ]
    }
   ],
   "source": [
    "loop = True\n",
    "\n",
    "while loop:\n",
    "    age = int(input('Enter Age: '))\n",
    "    if age < 3:\n",
    "        print('Your Ticket is Free')\n",
    "    elif 3 <= age < 12:\n",
    "        print('Your Ticket price is $10')\n",
    "    else: \n",
    "        print('Your Ticket price is $15')\n",
    "    \n",
    "    print()\n",
    "    print('Yes = y, No = n')\n",
    "    choice = input('Do you want to Cancel this Loop: ')\n",
    "    if(choice.lower() == 'y'):\n",
    "        loop = False\n",
    "        print('Loop End')\n",
    "    print()"
   ]
  },
  {
   "cell_type": "code",
   "execution_count": null,
   "metadata": {},
   "outputs": [],
   "source": []
  },
  {
   "cell_type": "code",
   "execution_count": 3,
   "metadata": {},
   "outputs": [],
   "source": [
    "# Question4:\n",
    "# Write a function called favorite_book() that accepts one parameter, title. The function should print a\n",
    "# message, such as One of my favorite books is Alice in Wonderland. Call the function, making sure to\n",
    "# include a book title as an argument in the function call."
   ]
  },
  {
   "cell_type": "code",
   "execution_count": 8,
   "metadata": {},
   "outputs": [
    {
     "name": "stdout",
     "output_type": "stream",
     "text": [
      "One of my Favorite Book is: Bad Liar\n"
     ]
    }
   ],
   "source": [
    "def favorite_book(title):\n",
    "    print('One of my Favorite Book is:', title)\n",
    "    \n",
    "bookTitle = 'Bad Liar'\n",
    "\n",
    "if(len(bookTitle) > 0): \n",
    "    favorite_book(bookTitle)\n",
    "else:\n",
    "    print('Enter Book Title in bookTitle variable')"
   ]
  },
  {
   "cell_type": "code",
   "execution_count": null,
   "metadata": {},
   "outputs": [],
   "source": []
  },
  {
   "cell_type": "code",
   "execution_count": 9,
   "metadata": {},
   "outputs": [],
   "source": [
    "# Question5:\n",
    "# Guess the number game\n",
    "# Write a program which randomly generate a number between 1 to 30 and ask the user in input field to\n",
    "# guess the correct number. Give three chances to user guess the number and also give hint to user if\n",
    "# hidden number is greater or smaller than the number he given to input field."
   ]
  },
  {
   "cell_type": "code",
   "execution_count": 1,
   "metadata": {},
   "outputs": [
    {
     "name": "stdout",
     "output_type": "stream",
     "text": [
      "\tGuess the number game\n",
      "\tYou have total 3 Chances\n",
      "\n",
      "Enter your Number: 25\n",
      "\n",
      "\tTry Again\n",
      "\tChances Left: 2\n",
      "\n",
      "\tHint: The Random Number is smaller than 25\n",
      "\n",
      "Enter your Number: 20\n",
      "\n",
      "\tTry Again\n",
      "\tChances Left: 1\n",
      "\n",
      "\tHint: The Random Number is smaller than 20\n",
      "\n",
      "Enter your Number: 19\n",
      "\n",
      "\tTry Again\n",
      "\tChances Left: 0\n",
      "\n",
      "\t==============\n",
      "\tSorry You Lost\n",
      "\t==============\n",
      "The Number is 13\n"
     ]
    }
   ],
   "source": [
    "from random import randint as rn\n",
    "randNum = rn(1, 31)\n",
    "\n",
    "print(\"\\tGuess the number game\")\n",
    "chances = 3\n",
    "print(\"\\tYou have total 3 Chances\\n\")\n",
    "\n",
    "while chances > 0:\n",
    "    myNum = int(input(\"Enter your Number: \"))\n",
    "    if(myNum == randNum):\n",
    "        print('\\n\\t=====================================================\\n\\tCongratulations!, You have guessed the correct answer\\n\\t=====================================================')\n",
    "        break\n",
    "    else:\n",
    "        print()\n",
    "        print(\"\\tTry Again\")\n",
    "        chances = chances - 1\n",
    "        print(\"\\tChances Left:\", chances)\n",
    "        if chances == 0:\n",
    "            print(\"\\n\\t==============\\n\\tSorry You Lost\\n\\t==============\")\n",
    "            print(\"The Number is\", randNum)\n",
    "            break\n",
    "        if randNum > myNum:\n",
    "            print('\\n\\tHint: The Random Number is greater than', myNum)\n",
    "        else:\n",
    "            print('\\n\\tHint: The Random Number is smaller than', myNum)\n",
    "    print()\n"
   ]
  },
  {
   "cell_type": "code",
   "execution_count": null,
   "metadata": {},
   "outputs": [],
   "source": []
  }
 ],
 "metadata": {
  "kernelspec": {
   "display_name": "Python 3",
   "language": "python",
   "name": "python3"
  },
  "language_info": {
   "codemirror_mode": {
    "name": "ipython",
    "version": 3
   },
   "file_extension": ".py",
   "mimetype": "text/x-python",
   "name": "python",
   "nbconvert_exporter": "python",
   "pygments_lexer": "ipython3",
   "version": "3.7.3"
  }
 },
 "nbformat": 4,
 "nbformat_minor": 2
}
