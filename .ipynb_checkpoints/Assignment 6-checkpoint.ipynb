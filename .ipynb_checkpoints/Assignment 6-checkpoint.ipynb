{
 "cells": [
  {
   "cell_type": "markdown",
   "metadata": {},
   "source": [
    "# Question 1"
   ]
  },
  {
   "cell_type": "code",
   "execution_count": 8,
   "metadata": {},
   "outputs": [
    {
     "name": "stdout",
     "output_type": "stream",
     "text": [
      "Object Oriented Programming is a programming language concept which relates to real-world stuffs. This model in which there are programs which are organized around Objects\n"
     ]
    }
   ],
   "source": [
    "# Question 1:\n",
    "# Define Object Oriented Programming Language?\n",
    "\n",
    "print(\"Object Oriented Programming is a programming language concept which relates to real-world stuffs. This model in which there are programs which are organized around Objects\")"
   ]
  },
  {
   "cell_type": "code",
   "execution_count": null,
   "metadata": {},
   "outputs": [],
   "source": []
  },
  {
   "cell_type": "markdown",
   "metadata": {},
   "source": [
    "# Question 2"
   ]
  },
  {
   "cell_type": "code",
   "execution_count": 2,
   "metadata": {},
   "outputs": [
    {
     "name": "stdout",
     "output_type": "stream",
     "text": [
      "1) Reusabilty of Code which can be done by doing inheritance and by making objects\n",
      "2) Can be use in Real-World things so it can be relatable to everyone and OOP is also problem solving\n",
      "3) Model is best for Security\n",
      "4) Flexibility of program through polymorphism\n",
      "5) Code Maintenance\n"
     ]
    }
   ],
   "source": [
    "# Question 2:\n",
    "# List down the Benefits of OOP?\n",
    "\n",
    "print(\"1) Reusabilty of Code which can be done by doing inheritance and by making objects\")\n",
    "print(\"2) Can be use in Real-World things so it can be relatable to everyone and OOP is also problem solving\")\n",
    "print(\"3) Model is best for Security\")\n",
    "print(\"4) Flexibility of program through polymorphism\")\n",
    "print(\"5) Code Maintenance\")"
   ]
  },
  {
   "cell_type": "code",
   "execution_count": null,
   "metadata": {},
   "outputs": [],
   "source": []
  },
  {
   "cell_type": "markdown",
   "metadata": {},
   "source": [
    "# Question 3"
   ]
  },
  {
   "cell_type": "code",
   "execution_count": 3,
   "metadata": {},
   "outputs": [
    {
     "name": "stdout",
     "output_type": "stream",
     "text": [
      "Methods and Functions are the same thing which reduce the code complexity and increase code reusability\n"
     ]
    }
   ],
   "source": [
    "# Question 3:\n",
    "# Differentiate between function and method?\n",
    "\n",
    "print(\"Methods and Functions are the same thing which reduce the code complexity and increase code reusability\")"
   ]
  },
  {
   "cell_type": "code",
   "execution_count": null,
   "metadata": {},
   "outputs": [],
   "source": []
  },
  {
   "cell_type": "markdown",
   "metadata": {},
   "source": [
    "# Question 4"
   ]
  },
  {
   "cell_type": "code",
   "execution_count": 7,
   "metadata": {},
   "outputs": [
    {
     "name": "stdout",
     "output_type": "stream",
     "text": [
      "Class : Class is a blueprint(template) of real world object \n",
      "\n",
      "Object : Object is a instance of class which knows how to perform actions and interaction with other object(elements) \n",
      "\n",
      "Attribute : Attributes are the features(variables) of Class \n",
      "\n",
      "Behavior : Behavior are the methods which tells object to take certain action by calling function/method through object \n",
      "\n"
     ]
    }
   ],
   "source": [
    "# Question 4:\n",
    "# Define the following terms:\n",
    "# 1. Class\n",
    "# 2. Object\n",
    "# 3. Attribute\n",
    "# 4. Behavior\n",
    "\n",
    "define = {\n",
    "    \"Class\": \"Class is a blueprint(template) of real world object\",\n",
    "    \"Object\": \"Object is a instance of class which knows how to perform actions and interaction with other object(elements)\",\n",
    "    \"Attribute\": \"Attributes are the features(variables) of Class\",\n",
    "    \"Behavior\": \"Behavior are the methods which tells object to take certain action by calling function/method through object\"\n",
    "}\n",
    "\n",
    "for key, value in define.items():\n",
    "    print(key, \":\", value, \"\\n\")"
   ]
  },
  {
   "cell_type": "code",
   "execution_count": null,
   "metadata": {},
   "outputs": [],
   "source": []
  },
  {
   "cell_type": "markdown",
   "metadata": {},
   "source": [
    "# Question 5"
   ]
  },
  {
   "cell_type": "code",
   "execution_count": 28,
   "metadata": {},
   "outputs": [
    {
     "name": "stdout",
     "output_type": "stream",
     "text": [
      "Car1 Details\n",
      "\tModel: Civic\n",
      "\tName: Honda\n",
      "\tColor: Black\n",
      "\tTransmission: Auto\n",
      "\tEngine: Sedan\n",
      "Speed is Increased to: 1\n",
      "Speed is Increased to: 2\n",
      "Speed is Increased to: 3\n",
      "Speed is Increased to: 4\n",
      "Speed is Decreased to: 3\n",
      "Head Light is On\n",
      "Head Light is Off\n",
      "==================================================================\n",
      "\n",
      "Car2 Details\n",
      "\tModel: Swift\n",
      "\tName: Suzuki\n",
      "\tColor: White\n",
      "\tTransmission: Manual\n",
      "\tEngine: Hatchback\n",
      "Speed is Increased to: 1\n",
      "Speed is Increased to: 2\n",
      "Speed is Increased to: 3\n",
      "Speed is Increased to: 4\n",
      "Speed is Decreased to: 3\n",
      "Head Light is On\n",
      "Head Light is Off\n",
      "==================================================================\n",
      "\n",
      "Car3 Details\n",
      "\tModel: X6\n",
      "\tName: BMW\n",
      "\tColor: Light Blue\n",
      "\tTransmission: Auto\n",
      "\tEngine: SUV\n",
      "Speed is Increased to: 1\n",
      "Speed is Increased to: 2\n",
      "Speed is Increased to: 3\n",
      "Speed is Decreased to: 2\n",
      "Speed is Decreased to: 1\n",
      "Head Light is On\n",
      "Head Light is Off\n",
      "==================================================================\n",
      "\n",
      "Car4 Details\n",
      "\tModel: Explorer\n",
      "\tName: Ford\n",
      "\tColor: Red\n",
      "\tTransmission: Auto\n",
      "\tEngine: Crossover\n",
      "Speed is Increased to: 1\n",
      "Speed is Increased to: 2\n",
      "Speed is Decreased to: 1\n",
      "Head Light is On\n",
      "Head Light is Off\n",
      "Head Light is On\n",
      "Speed is Increased to: 2\n",
      "==================================================================\n",
      "\n",
      "Car5 Details\n",
      "\tModel: Viber\n",
      "\tName: Dodge\n",
      "\tColor: Black Matte\n",
      "\tTransmission: Semi-Auto\n",
      "\tEngine: Sportscar\n",
      "Speed is Increased to: 1\n",
      "Speed is Increased to: 2\n",
      "Speed is Increased to: 3\n",
      "Speed is Increased to: 4\n",
      "Speed is Increased to: 5\n",
      "Speed is Increased to: 6\n",
      "Speed is Decreased to: 5\n",
      "Head Light is On\n",
      "Head Light is Off\n",
      "Head Light is On\n",
      "Speed is Increased to: 6\n"
     ]
    }
   ],
   "source": [
    "# Question 5:\n",
    "# Write a code in python in which create a class named it Car which\n",
    "# have 5 attributes such like (model, color and name etc.) and 3\n",
    "# methods. And create 5 object instance from that class.\n",
    "\n",
    "class Car:\n",
    "    def __init__(self, model, color, name, carType, transmission):\n",
    "        self.model = model\n",
    "        self.name = name\n",
    "        self.color = color\n",
    "        self.carType = carType\n",
    "        self.transmission = transmission\n",
    "        self.speed = 0\n",
    "    \n",
    "    def Speed(self):\n",
    "        self.speed += 1\n",
    "        print(\"Speed is Increased to:\", self.speed)\n",
    "    \n",
    "    def Brake(self):\n",
    "        self.speed -= 1\n",
    "        print(\"Speed is Decreased to:\", self.speed)\n",
    "        \n",
    "    def HeadLight(self, power):\n",
    "        if(power):\n",
    "            print(\"Head Light is On\")\n",
    "        else:\n",
    "            print(\"Head Light is Off\")\n",
    "            \n",
    "            \n",
    "Car1 = Car(\"Civic\", \"Black\", \"Honda\", \"Sedan\", \"Auto\")\n",
    "print(\"Car1 Details\")\n",
    "print(\"\\tModel:\", Car1.model)\n",
    "print(\"\\tName:\", Car1.name)\n",
    "print(\"\\tColor:\", Car1.color)\n",
    "print(\"\\tTransmission:\", Car1.transmission)\n",
    "print(\"\\tEngine:\", Car1.carType)\n",
    "Car1.Speed()\n",
    "Car1.Speed()\n",
    "Car1.Speed()\n",
    "Car1.Speed()\n",
    "Car1.Brake()\n",
    "Car1.HeadLight(True)\n",
    "Car1.HeadLight(False)\n",
    "\n",
    "print(\"==================================================================\")\n",
    "Car2 = Car(\"Swift\", \"White\", \"Suzuki\", \"Hatchback\", \"Manual\")\n",
    "print(\"\\nCar2 Details\")\n",
    "print(\"\\tModel:\", Car2.model)\n",
    "print(\"\\tName:\", Car2.name)\n",
    "print(\"\\tColor:\", Car2.color)\n",
    "print(\"\\tTransmission:\", Car2.transmission)\n",
    "print(\"\\tEngine:\", Car2.carType)\n",
    "Car2.Speed()\n",
    "Car2.Speed()\n",
    "Car2.Speed()\n",
    "Car2.Speed()\n",
    "Car2.Brake()\n",
    "Car2.HeadLight(True)\n",
    "Car2.HeadLight(False)\n",
    "\n",
    "print(\"==================================================================\")\n",
    "Car3 = Car(\"X6\", \"Light Blue\", \"BMW\", \"SUV\", \"Auto\")\n",
    "print(\"\\nCar3 Details\")\n",
    "print(\"\\tModel:\", Car3.model)\n",
    "print(\"\\tName:\", Car3.name)\n",
    "print(\"\\tColor:\", Car3.color)\n",
    "print(\"\\tTransmission:\", Car3.transmission)\n",
    "print(\"\\tEngine:\", Car3.carType)\n",
    "Car3.Speed()\n",
    "Car3.Speed()\n",
    "Car3.Speed()\n",
    "Car3.Brake()\n",
    "Car3.Brake()\n",
    "Car3.HeadLight(True)\n",
    "Car3.HeadLight(False)\n",
    "\n",
    "print(\"==================================================================\")    \n",
    "Car4 = Car(\"Explorer\", \"Red\", \"Ford\", \"Crossover\", \"Auto\")\n",
    "print(\"\\nCar4 Details\")\n",
    "print(\"\\tModel:\", Car4.model)\n",
    "print(\"\\tName:\", Car4.name)\n",
    "print(\"\\tColor:\", Car4.color)\n",
    "print(\"\\tTransmission:\", Car4.transmission)\n",
    "print(\"\\tEngine:\", Car4.carType)\n",
    "Car4.Speed()\n",
    "Car4.Speed()\n",
    "Car4.Brake()\n",
    "Car4.HeadLight(True)\n",
    "Car4.HeadLight(False)\n",
    "Car4.HeadLight(True)\n",
    "Car4.Speed()\n",
    "\n",
    "print(\"==================================================================\")     \n",
    "Car5 = Car(\"Viber\", \"Black Matte\", \"Dodge\", \"Sportscar\", \"Semi-Auto\")\n",
    "print(\"\\nCar5 Details\")\n",
    "print(\"\\tModel:\", Car5.model)\n",
    "print(\"\\tName:\", Car5.name)\n",
    "print(\"\\tColor:\", Car5.color)\n",
    "print(\"\\tTransmission:\", Car5.transmission)\n",
    "print(\"\\tEngine:\", Car5.carType)\n",
    "Car5.Speed()\n",
    "Car5.Speed()\n",
    "Car5.Speed()\n",
    "Car5.Speed()\n",
    "Car5.Speed()\n",
    "Car5.Speed()\n",
    "Car5.Brake()\n",
    "Car5.HeadLight(True)\n",
    "Car5.HeadLight(False)\n",
    "Car5.HeadLight(True)\n",
    "Car5.Speed()"
   ]
  },
  {
   "cell_type": "code",
   "execution_count": null,
   "metadata": {},
   "outputs": [],
   "source": []
  }
 ],
 "metadata": {
  "kernelspec": {
   "display_name": "Python 3",
   "language": "python",
   "name": "python3"
  },
  "language_info": {
   "codemirror_mode": {
    "name": "ipython",
    "version": 3
   },
   "file_extension": ".py",
   "mimetype": "text/x-python",
   "name": "python",
   "nbconvert_exporter": "python",
   "pygments_lexer": "ipython3",
   "version": "3.7.3"
  }
 },
 "nbformat": 4,
 "nbformat_minor": 2
}
