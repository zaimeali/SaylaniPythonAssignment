{
 "cells": [
  {
   "cell_type": "code",
   "execution_count": 2,
   "metadata": {},
   "outputs": [],
   "source": [
    "# ASSIGNMENT 2"
   ]
  },
  {
   "cell_type": "code",
   "execution_count": 3,
   "metadata": {},
   "outputs": [],
   "source": []
  },
  {
   "cell_type": "code",
   "execution_count": 12,
   "metadata": {},
   "outputs": [
    {
     "name": "stdout",
     "output_type": "stream",
     "text": [
      "Enter English marks out of 20: 15\n",
      "Enter Maths marks out of 20: 15\n",
      "Enter Computer marks out of 20: 15\n",
      "Enter Physics marks out of 20: 15\n",
      "Enter Chemistry marks out of 20: 15\n",
      "\n",
      "Total Marks is: 75 out of 100\n",
      "Percentage is: 75.0%\n",
      "Your Grade is B\n"
     ]
    }
   ],
   "source": [
    "# 1. Write a program which takes 5 inputs from user for different subject’s\n",
    "# marks, total it and generate mark sheet using grades ?\n",
    "\n",
    "marks = []\n",
    "\n",
    "subjects = [\"English\", \"Maths\", \"Computer\", \"Physics\", \"Chemistry\"]\n",
    "\n",
    "for i in range(0, 5):\n",
    "    mark = int(input(\"Enter \" + subjects[i] + \" marks out of 20: \"))\n",
    "    marks.append(mark)\n",
    "\n",
    "total = sum(marks)\n",
    "print(\"\\nTotal Marks is: \" + str(total) + \" out of 100\")\n",
    "\n",
    "totalMark = 100\n",
    "\n",
    "percentage = (total / totalMark) * 100\n",
    "\n",
    "print(\"Percentage is: \" + str(percentage) + \"%\")\n",
    "\n",
    "if(percentage >= 80):\n",
    "    print(\"Your Grade is A\")\n",
    "\n",
    "elif(70 <= percentage < 80):\n",
    "    print(\"Your Grade is B\")\n",
    "    \n",
    "elif(60 <= percentage < 70):\n",
    "    print(\"Your Grade is C\")\n",
    "    \n",
    "elif(50 <= percentage < 60):\n",
    "    print(\"Your Grade is D\")\n",
    "\n",
    "else:\n",
    "    print(\"Your Grade is F\")"
   ]
  },
  {
   "cell_type": "code",
   "execution_count": 13,
   "metadata": {},
   "outputs": [],
   "source": []
  },
  {
   "cell_type": "code",
   "execution_count": 19,
   "metadata": {},
   "outputs": [
    {
     "name": "stdout",
     "output_type": "stream",
     "text": [
      "Enter any Number: 120001\n",
      "\n",
      "Number is Odd\n"
     ]
    }
   ],
   "source": [
    "# 2. Write a program which take input from user and identify that the given\n",
    "# number is even or odd?\n",
    "\n",
    "number = int(input(\"Enter any Number: \"))\n",
    "\n",
    "if(not(number % 2)):\n",
    "    print(\"\\nNumber is Even\")\n",
    "else:\n",
    "    print(\"\\nNumber is Odd\")"
   ]
  },
  {
   "cell_type": "code",
   "execution_count": 20,
   "metadata": {},
   "outputs": [],
   "source": []
  },
  {
   "cell_type": "code",
   "execution_count": 22,
   "metadata": {},
   "outputs": [
    {
     "name": "stdout",
     "output_type": "stream",
     "text": [
      "Your list length is: 5\n"
     ]
    }
   ],
   "source": [
    "# 3. Write a program which print the length of the list?\n",
    "\n",
    "li = [2, \"Zaime\", \"Git\", True, \"ok\"]\n",
    "\n",
    "print(\"Your list length is: \" + str(len(li)))"
   ]
  },
  {
   "cell_type": "code",
   "execution_count": 23,
   "metadata": {},
   "outputs": [],
   "source": []
  },
  {
   "cell_type": "code",
   "execution_count": 24,
   "metadata": {},
   "outputs": [
    {
     "name": "stdout",
     "output_type": "stream",
     "text": [
      "Sum is: 45\n"
     ]
    }
   ],
   "source": [
    "# 4. Write a Python program to sum all the numeric items in a list?\n",
    "\n",
    "numList = range(10)\n",
    "\n",
    "listLen = len(numList)\n",
    "\n",
    "sum = 0\n",
    "\n",
    "for i in range(listLen):\n",
    "    sum = sum + numList[i]\n",
    "    \n",
    "print(\"Sum is: \" + str(sum))"
   ]
  },
  {
   "cell_type": "code",
   "execution_count": 25,
   "metadata": {},
   "outputs": [],
   "source": []
  },
  {
   "cell_type": "code",
   "execution_count": 28,
   "metadata": {},
   "outputs": [
    {
     "name": "stdout",
     "output_type": "stream",
     "text": [
      "Max number in a List is: 98\n"
     ]
    }
   ],
   "source": [
    "# 5. Write a Python program to get the largest number from a numeric list.\n",
    "\n",
    "numList = [45, 64, 10, 30, 48, 98, 0, 5, 14]\n",
    "\n",
    "max = 0\n",
    "\n",
    "for i in range(len(numList)):\n",
    "    if max < numList[i]:\n",
    "        max = numList[i]\n",
    "\n",
    "print(\"Max number in a List is: \" + str(max))"
   ]
  },
  {
   "cell_type": "code",
   "execution_count": 29,
   "metadata": {},
   "outputs": [],
   "source": []
  },
  {
   "cell_type": "code",
   "execution_count": 30,
   "metadata": {},
   "outputs": [
    {
     "name": "stdout",
     "output_type": "stream",
     "text": [
      "1\n",
      "1\n",
      "2\n",
      "3\n"
     ]
    }
   ],
   "source": [
    "# 6. Take a list, say for example this one:\n",
    "# a = [1, 1, 2, 3, 5, 8, 13, 21, 34, 55, 89]\n",
    "# and write a program that prints out all the elements of the list that are\n",
    "# less than 5.\n",
    "\n",
    "a = [1, 1, 2, 3, 5, 8, 13, 21, 34, 55, 89]\n",
    "\n",
    "for i in range(len(a)):\n",
    "    if(a[i] < 5):\n",
    "        print(a[i])"
   ]
  },
  {
   "cell_type": "code",
   "execution_count": null,
   "metadata": {},
   "outputs": [],
   "source": []
  }
 ],
 "metadata": {
  "kernelspec": {
   "display_name": "Python 3",
   "language": "python",
   "name": "python3"
  },
  "language_info": {
   "codemirror_mode": {
    "name": "ipython",
    "version": 3
   },
   "file_extension": ".py",
   "mimetype": "text/x-python",
   "name": "python",
   "nbconvert_exporter": "python",
   "pygments_lexer": "ipython3",
   "version": "3.7.3"
  }
 },
 "nbformat": 4,
 "nbformat_minor": 2
}
