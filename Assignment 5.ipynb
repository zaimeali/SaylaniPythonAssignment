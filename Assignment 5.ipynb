{
 "cells": [
  {
   "cell_type": "markdown",
   "metadata": {},
   "source": [
    "# Question:1\n",
    "#### Write a Python function to calculate the factorial of a number (a non-negative integer). The function accepts the number as an argument."
   ]
  },
  {
   "cell_type": "code",
   "execution_count": 3,
   "metadata": {},
   "outputs": [
    {
     "name": "stdout",
     "output_type": "stream",
     "text": [
      "Enter Your Number: 5\n",
      "Factorial is  120\n"
     ]
    }
   ],
   "source": [
    "def nonNeg(num):\n",
    "    if num < 0:\n",
    "        return (-(num))\n",
    "    return num\n",
    "\n",
    "def factorial(num):\n",
    "    if num > 1:\n",
    "        return num * factorial(num - 1)\n",
    "    else:\n",
    "        return 1\n",
    "\n",
    "print(\"Factorial is \", factorial(nonNeg(int(input(\"Enter Your Number: \")))))"
   ]
  },
  {
   "cell_type": "markdown",
   "metadata": {},
   "source": [
    "# Question:2\n",
    "#### Write a Python function that accepts a string and calculate the number of upper case letters and lower case letters."
   ]
  },
  {
   "cell_type": "code",
   "execution_count": 1,
   "metadata": {},
   "outputs": [
    {
     "name": "stdout",
     "output_type": "stream",
     "text": [
      "Enter Sentence: Nice Sentence Here\n",
      "\n",
      "Length of Sentence:  16\n",
      "Upper Case Letter Count is:  3\n",
      "Lower Case Letter Count is 13\n"
     ]
    }
   ],
   "source": [
    "def upperCount(sentence):\n",
    "    count = 0\n",
    "    for i in sentence:\n",
    "        if i == \" \":\n",
    "            continue\n",
    "        if i == i.upper():\n",
    "            count = count + 1\n",
    "    return count\n",
    "\n",
    "def lowerCount(sentence):\n",
    "    count = 0\n",
    "    for i in sentence:\n",
    "        if i == \" \":\n",
    "            continue\n",
    "        if i == i.lower():\n",
    "            count = count + 1\n",
    "    return count\n",
    "\n",
    "def Count(sentence):\n",
    "    count = 0\n",
    "    for i in sentence:\n",
    "        if not i == \" \":\n",
    "            count = count + 1\n",
    "    return count\n",
    "\n",
    "def count(sentence):\n",
    "    upCount = upperCount(sentence)\n",
    "    lowCount = lowerCount(sentence)\n",
    "    print()\n",
    "    print(\"Length of Sentence: \", Count(sentence))\n",
    "    print(\"Upper Case Letter Count is: \", upCount)\n",
    "    print(\"Lower Case Letter Count is\", lowCount)\n",
    "\n",
    "count(input(\"Enter Sentence: \"))"
   ]
  },
  {
   "cell_type": "markdown",
   "metadata": {},
   "source": [
    "# Question:3\n",
    "#### Write a Python function to print the even numbers from a given list."
   ]
  },
  {
   "cell_type": "code",
   "execution_count": 5,
   "metadata": {},
   "outputs": [
    {
     "name": "stdout",
     "output_type": "stream",
     "text": [
      "Even Numbers are: \n",
      "\t 0\n",
      "\t 2\n",
      "\t 4\n",
      "\t 6\n",
      "\t 8\n",
      "\t 10\n",
      "\t 12\n",
      "\t 14\n",
      "\t 16\n",
      "\t 18\n",
      "\t 20\n",
      "\t 22\n",
      "\t 24\n",
      "\t 26\n",
      "\t 28\n",
      "\t 30\n",
      "\t 32\n",
      "\t 34\n",
      "\t 36\n",
      "\t 38\n",
      "\t 40\n",
      "\t 42\n",
      "\t 44\n",
      "\t 46\n",
      "\t 48\n",
      "\n",
      "Even Number:  25\n"
     ]
    }
   ],
   "source": [
    "import numpy as np\n",
    "\n",
    "numArr = np.arange(50)\n",
    "\n",
    "def evenNum(arr):\n",
    "    count = 0\n",
    "    print(\"Even Numbers are: \")\n",
    "    for i in arr:\n",
    "        if i % 2 == 0:\n",
    "            print(\"\\t\", i)\n",
    "            count = count + 1\n",
    "    return count\n",
    "\n",
    "print(\"\\nEven Number: \", evenNum(numArr))"
   ]
  },
  {
   "cell_type": "markdown",
   "metadata": {},
   "source": [
    "# Question:4\n",
    "#### Write a Python function that checks whether a passed string is palindrome or not.\n",
    "###### Note: A palindrome is a word, phrase, or sequence that reads the same backward as forward, e.g., madam"
   ]
  },
  {
   "cell_type": "code",
   "execution_count": 28,
   "metadata": {},
   "outputs": [
    {
     "name": "stdout",
     "output_type": "stream",
     "text": [
      "Enter Word: madAm\n",
      "It's a Palindrome\n"
     ]
    }
   ],
   "source": [
    "def reverse(word):\n",
    "    return word[::-1]\n",
    "\n",
    "def palin(word):\n",
    "    w_len = len(word)\n",
    "    if w_len > 0:\n",
    "        word = word.lower()\n",
    "        if (word == reverse(word)):\n",
    "            print(\"It's a Palindrome\")\n",
    "        else: \n",
    "            print(\"Not a Palindrome\")\n",
    "\n",
    "palin(input(\"Enter Word: \"))"
   ]
  },
  {
   "cell_type": "markdown",
   "metadata": {},
   "source": [
    "# Question:5\n",
    "#### Write a Python function that takes a number as a parameter and check the number is prime or not."
   ]
  },
  {
   "cell_type": "code",
   "execution_count": 46,
   "metadata": {},
   "outputs": [
    {
     "name": "stdout",
     "output_type": "stream",
     "text": [
      "Enter Number: 9\n",
      "\n",
      "9 is not Prime\n"
     ]
    }
   ],
   "source": [
    "def prime(num):\n",
    "    print()\n",
    "    count = 0\n",
    "    if num >= 1:\n",
    "        if num % 2 == 0:\n",
    "            print(num, \"is Prime\")\n",
    "        else:\n",
    "             print(num, \"is not Prime\")   \n",
    "    else:\n",
    "        print(\"Enter Correct Number\")\n",
    "\n",
    "prime(int(input(\"Enter Number: \")))"
   ]
  },
  {
   "cell_type": "markdown",
   "metadata": {},
   "source": [
    "# Question: 6\n",
    "### Suppose a customer is shopping in a market and you need to print all the items which user bought from market.\n",
    "#### Write a function which accepts the multiple arguments of user shopping list and print all the items which user bought from market.\n",
    "##### (Hint: Arbitrary Argument concept can make this task ease)"
   ]
  },
  {
   "cell_type": "code",
   "execution_count": 49,
   "metadata": {},
   "outputs": [
    {
     "name": "stdout",
     "output_type": "stream",
     "text": [
      "Items which user bought: ('Egg', 'Bread', 'Milk', 'Butter')\n"
     ]
    }
   ],
   "source": [
    "def marketList(*items):\n",
    "    print(\"Items which user bought:\", items)\n",
    "    \n",
    "    \n",
    "marketList(\"Egg\", \"Bread\", \"Milk\", \"Butter\")"
   ]
  },
  {
   "cell_type": "code",
   "execution_count": null,
   "metadata": {},
   "outputs": [],
   "source": []
  }
 ],
 "metadata": {
  "kernelspec": {
   "display_name": "Python 3",
   "language": "python",
   "name": "python3"
  },
  "language_info": {
   "codemirror_mode": {
    "name": "ipython",
    "version": 3
   },
   "file_extension": ".py",
   "mimetype": "text/x-python",
   "name": "python",
   "nbconvert_exporter": "python",
   "pygments_lexer": "ipython3",
   "version": "3.7.3"
  }
 },
 "nbformat": 4,
 "nbformat_minor": 2
}
